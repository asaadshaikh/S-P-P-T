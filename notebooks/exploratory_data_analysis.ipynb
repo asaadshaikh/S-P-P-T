{
 "cells": [
  {
   "cell_type": "markdown",
   "metadata": {},
   "source": [
    "# Exploratory Data Analysis (EDA)\n",
    "\n",
    "This notebook contains code and visualizations for performing exploratory data analysis on stock price data. We will analyze stock prices, visualize returns distribution, and plot technical indicators."
   ]
  },
  {
   "cell_type": "code",
   "execution_count": 1,
   "metadata": {},
   "outputs": [],
   "source": [
    "import pandas as pd\n",
    "import matplotlib.pyplot as plt\n",
    "import pandas_ta as ta\n",
    "\n",
    "# Load the stock price data\n",
    "data = pd.read_csv('../data/stock_data.csv')  # Adjust the path as necessary\n",
    "data['Date'] = pd.to_datetime(data['Date'])\n",
    "data.set_index('Date', inplace=True)\n",
    "\n",
    "# Display the first few rows of the dataset\n",
    "data.head()"
   ]
  },
  {
   "cell_type": "code",
   "execution_count": 2,
   "metadata": {},
   "outputs": [],
   "source": [
    "# Plot the stock price over time\n",
    "plt.figure(figsize=(14, 7))\n",
    "plt.plot(data['Close'], label='Close Price')\n",
    "plt.title('Stock Price Over Time')\n",
    "plt.xlabel('Date')\n",
    "plt.ylabel('Price')\n",
    "plt.legend()\n",
    "plt.show()"
   ]
  },
  {
   "cell_type": "code",
   "execution_count": 3,
   "metadata": {},
   "outputs": [],
   "source": [
    "# Visualize the distribution of returns\n",
    "data['Returns'] = data['Close'].pct_change()\n",
    "plt.figure(figsize=(14, 7))\n",
    "plt.hist(data['Returns'].dropna(), bins=50, alpha=0.75)\n",
    "plt.title('Distribution of Returns')\n",
    "plt.xlabel('Returns')\n",
    "plt.ylabel('Frequency')\n",
    "plt.show()"
   ]
  },
  {
   "cell_type": "code",
   "execution_count": 4,
   "metadata": {},
   "outputs": [],
   "source": [
    "# Calculate and plot technical indicators\n",
    "data['SMA'] = ta.sma(data['Close'], length=20)\n",
    "data['RSI'] = ta.rsi(data['Close'], length=14)\n",
    "\n",
    "plt.figure(figsize=(14, 7))\n",
    "plt.plot(data['Close'], label='Close Price')\n",
    "plt.plot(data['SMA'], label='20-Day SMA', color='orange')\n",
    "plt.title('Stock Price and 20-Day SMA')\n",
    "plt.xlabel('Date')\n",
    "plt.ylabel('Price')\n",
    "plt.legend()\n",
    "plt.show()"
   ]
  },
  {
   "cell_type": "markdown",
   "metadata": {},
   "source": [
    "## Insights\n",
    "\n",
    "In this section, we will summarize any trends, seasonality, or volatility clusters observed in the data."
   ]
  }
 ],
 "metadata": {
  "kernelspec": {
   "display_name": "Python 3",
   "language": "python",
   "name": "python3"
  },
  "language_info": {
   "codemirror_mode": {
    "name": "ipython",
    "version": 3
   },
   "file_extension": ".py",
   "mimetype": "text/x-python",
   "name": "python",
   "nbconvert_exporter": "python",
   "pygments_lexer": "ipython3",
   "version": "3.8.5"
  }
 },
 "nbformat": 4,
 "nbformat_minor": 4
}